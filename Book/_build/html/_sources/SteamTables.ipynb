{
 "cells": [
  {
   "cell_type": "code",
   "execution_count": 1,
   "id": "4b1d7da1-a204-45fc-b754-059d25bde614",
   "metadata": {},
   "outputs": [
    {
     "name": "stdout",
     "output_type": "stream",
     "text": [
      "Requirement already satisfied: CoolProp in c:\\users\\owner\\anaconda3\\lib\\site-packages (6.6.0)\n",
      "Note: you may need to restart the kernel to use updated packages.\n"
     ]
    }
   ],
   "source": [
    "pip install CoolProp"
   ]
  },
  {
   "cell_type": "code",
   "execution_count": 2,
   "id": "d908ce9a-1e77-4c3d-a043-bf8ca2ad4dbf",
   "metadata": {},
   "outputs": [
    {
     "name": "stdout",
     "output_type": "stream",
     "text": [
      "(1) General Steam Table\n",
      "Pressure: 101.325 kPa, Temperature: 100.00 °C\n",
      "Specific Enthalpy: 2675.58 kJ/kg\n",
      "Specific Entropy: 7354.5706 J/kg.K\n",
      "\n",
      "(2) Superheated State\n",
      "Pressure: 500.0 kPa, Temperature: 226.85 °C\n",
      "Specific Enthalpy: 2912.71 kJ/kg\n",
      "Specific Entropy: 7177.9418 J/kg.K\n",
      "\n",
      "(3) Saturation Region: Find Quality (x)\n",
      "Pressure: 200.0 kPa, Entropy: 2.50 kJ/kg.K\n",
      "Quality (x): 0.1733\n",
      "\n",
      "(4) Saturation Region: Find Properties\n",
      "Pressure: 200.0 kPa\n",
      "Entropy: 2.50 kJ/kg.K, Quality (x): 0.17\n",
      "Enthalpy: 886.19 kJ/kg\n",
      "\n",
      "(5) Liquid State: Find All Properties\n",
      "Pressure: 300.0 kPa\n",
      "Saturated Liquid Enthalpy: 561.43 kJ/kg\n",
      "Saturated Liquid Density: 931.82 kg/m^3\n",
      "\n",
      "(6) Liquid State: Find Properties\n",
      "Pressure: 200.0 kPa, Entropy: 1.00 kJ/kg.K\n",
      "Temperature: 73.70 °C\n",
      "Enthalpy: 308.72 kJ/kg\n",
      "Density: 975.66 kg/m^3\n",
      "\n"
     ]
    }
   ],
   "source": [
    "from CoolProp.CoolProp import PropsSI\n",
    "# General Syntax of PropsSI:\n",
    "# PropsSI(output, input1, value1, input2, value2, fluid)\n",
    "# - output: The desired property to calculate (e.g., 'T', 'P', 'H', 'S', etc.).\n",
    "# - input1: The first input property (e.g., 'P', 'T', 'S', 'H', etc.).\n",
    "# - value1: The value for the first input property (units depend on the property, e.g., Pa, K).\n",
    "# - input2: The second input property (e.g., 'P', 'T', 'S', etc.).\n",
    "# - value2: The value for the second input property.\n",
    "# - fluid: The name of the fluid (e.g., 'Water', 'R134a', 'Ammonia')\n",
    "\n",
    "def steam_table_examples():\n",
    "    \"\"\"\n",
    "    Examples for calculating steam properties using CoolProp, covering:\n",
    "    1. General steam table properties.\n",
    "    2. Superheated state: Given temperature and pressure, find all properties.\n",
    "    3. Saturation region: Given entropy and pressure, find the steam quality (x).\n",
    "    4. Saturation region: Given entropy and pressure, find properties.\n",
    "    5. Liquid state: Given pressure and x=0, find all properties.\n",
    "    6. Liquid state: Given pressure and entropy, find all properties.\n",
    "    \"\"\"\n",
    "\n",
    "    # (1) Steam Table: Print general properties of steam\n",
    "    print(\"(1) General Steam Table\")\n",
    "    pressure = 101325  # Pa (1 atm)\n",
    "    temperature = 373.15  # K (100°C)\n",
    "    print(f\"Pressure: {pressure / 1000} kPa, Temperature: {temperature - 273.15:.2f} °C\")\n",
    "    print(f\"Specific Enthalpy: {PropsSI('H', 'P', pressure, 'T', temperature, 'Water') / 1000:.2f} kJ/kg\")\n",
    "    print(f\"Specific Entropy: {PropsSI('S', 'P', pressure, 'T', temperature, 'Water'):.4f} J/kg.K\\n\")\n",
    "\n",
    "    # (2) Superheated State: Given T & P, find all properties\n",
    "    print(\"(2) Superheated State\")\n",
    "    pressure = 500000  # Pa (5 bar)\n",
    "    temperature = 500  # K\n",
    "    print(f\"Pressure: {pressure / 1000} kPa, Temperature: {temperature - 273.15:.2f} °C\")\n",
    "    print(f\"Specific Enthalpy: {PropsSI('H', 'P', pressure, 'T', temperature, 'Water') / 1000:.2f} kJ/kg\")\n",
    "    print(f\"Specific Entropy: {PropsSI('S', 'P', pressure, 'T', temperature, 'Water'):.4f} J/kg.K\\n\")\n",
    "\n",
    "    # (3) Saturation Region: Given S & P, find quality (x)\n",
    "    print(\"(3) Saturation Region: Find Quality (x)\")\n",
    "    pressure = 200000  # Pa\n",
    "    entropy = 2.5  # kJ/kg.K\n",
    "    entropy_liquid = PropsSI('S', 'P', pressure, 'Q', 0, 'Water')  # Saturated liquid entropy\n",
    "    entropy_vapor = PropsSI('S', 'P', pressure, 'Q', 1, 'Water')  # Saturated vapor entropy\n",
    "    quality = (entropy * 1000 - entropy_liquid) / (entropy_vapor - entropy_liquid)  # Quality calculation\n",
    "    print(f\"Pressure: {pressure / 1000} kPa, Entropy: {entropy:.2f} kJ/kg.K\")\n",
    "    print(f\"Quality (x): {quality:.4f}\\n\")\n",
    "\n",
    "    # (4) Saturation Region: Given S & P, find properties\n",
    "    print(\"(4) Saturation Region: Find Properties\")\n",
    "    enthalpy_liquid = PropsSI('H', 'P', pressure, 'Q', 0, 'Water')  # Saturated liquid enthalpy\n",
    "    enthalpy_vapor = PropsSI('H', 'P', pressure, 'Q', 1, 'Water')  # Saturated vapor enthalpy\n",
    "    enthalpy = enthalpy_liquid + quality * (enthalpy_vapor - enthalpy_liquid)  # Enthalpy for quality\n",
    "    print(f\"Pressure: {pressure / 1000} kPa\")\n",
    "    print(f\"Entropy: {entropy:.2f} kJ/kg.K, Quality (x): {quality:.2f}\")\n",
    "    print(f\"Enthalpy: {enthalpy / 1000:.2f} kJ/kg\\n\")\n",
    "\n",
    "    # (5) Liquid State: Given P & x=0, find all properties\n",
    "    print(\"(5) Liquid State: Find All Properties\")\n",
    "    pressure = 300000  # Pa (3 bar)\n",
    "    print(f\"Pressure: {pressure / 1000} kPa\")\n",
    "    print(f\"Saturated Liquid Enthalpy: {PropsSI('H', 'P', pressure, 'Q', 0, 'Water') / 1000:.2f} kJ/kg\")\n",
    "    print(f\"Saturated Liquid Density: {PropsSI('D', 'P', pressure, 'Q', 0, 'Water'):.2f} kg/m^3\\n\")\n",
    "\n",
    "    # (6) Liquid State: Given P & S, find all properties\n",
    "    print(\"(6) Liquid State: Find Properties\")\n",
    "    pressure = 200000  # Pa\n",
    "    entropy = 1.0  # kJ/kg.K\n",
    "    temperature = PropsSI('T', 'P', pressure, 'S', entropy * 1000, 'Water')  # Temperature from S & P\n",
    "    print(f\"Pressure: {pressure / 1000} kPa, Entropy: {entropy:.2f} kJ/kg.K\")\n",
    "    print(f\"Temperature: {temperature - 273.15:.2f} °C\")\n",
    "    print(f\"Enthalpy: {PropsSI('H', 'P', pressure, 'S', entropy * 1000, 'Water') / 1000:.2f} kJ/kg\")\n",
    "    print(f\"Density: {PropsSI('D', 'P', pressure, 'S', entropy * 1000, 'Water'):.2f} kg/m^3\\n\")\n",
    "\n",
    "# Call the function to run all examples\n",
    "steam_table_examples()\n"
   ]
  },
  {
   "cell_type": "code",
   "execution_count": 3,
   "id": "296cbc8b-b8a0-4cd4-9376-363ce06e5e9e",
   "metadata": {},
   "outputs": [
    {
     "name": "stdout",
     "output_type": "stream",
     "text": [
      "R134a Enthalpy: 421.16 kJ/kg at 30.0\n",
      "R134a Entropy: 1.7659368798109394\n"
     ]
    }
   ],
   "source": [
    "# Example: Calculate properties of R134a\n",
    "pressure = 500000  # Pa (5 bar)\n",
    "temperature = 303.15  # K (30°C)\n",
    "\n",
    "enthalpy_r134a = PropsSI('H', 'P', pressure, 'T', temperature, 'R134a')\n",
    "entropy_r134a = PropsSI('S', 'P', pressure, 'T', temperature, 'R134a')\n",
    "\n",
    "temp_fahrenheit = temperature - 273.15\n",
    "print(f\"R134a Enthalpy: {enthalpy_r134a / 1000:.2f} kJ/kg at {temp_fahrenheit}\")\n",
    "print(f\"R134a Entropy: {entropy_r134a / 1000:}\")\n"
   ]
  },
  {
   "cell_type": "code",
   "execution_count": null,
   "id": "d2145a99-58a3-4b8c-9f42-5133d38e1f61",
   "metadata": {},
   "outputs": [],
   "source": []
  }
 ],
 "metadata": {
  "kernelspec": {
   "display_name": "Python 3 (ipykernel)",
   "language": "python",
   "name": "python3"
  },
  "language_info": {
   "codemirror_mode": {
    "name": "ipython",
    "version": 3
   },
   "file_extension": ".py",
   "mimetype": "text/x-python",
   "name": "python",
   "nbconvert_exporter": "python",
   "pygments_lexer": "ipython3",
   "version": "3.9.19"
  }
 },
 "nbformat": 4,
 "nbformat_minor": 5
}
