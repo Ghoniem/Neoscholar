{
 "cells": [
  {
   "cell_type": "code",
   "execution_count": 1,
   "id": "563bce32-6f42-47dd-bbc1-2af6412ae967",
   "metadata": {},
   "outputs": [
    {
     "name": "stdout",
     "output_type": "stream",
     "text": [
      "Bioethanol produced from 1 kg of Corn: 0.30 kg\n"
     ]
    }
   ],
   "source": [
    "import sympy as sp\n",
    "\n",
    "# Define crop types and their carbohydrate content (% by weight)\n",
    "# Assumed carbohydrate conversion factors\n",
    "crop_data = {\n",
    "    \"Corn\": {\"carbohydrate_content\": 0.65},  # 65% carbohydrate by mass\n",
    "    \"Sugarcane\": {\"carbohydrate_content\": 0.75},  # 75% carbohydrate by mass\n",
    "    \"Wheat\": {\"carbohydrate_content\": 0.60},  # 60% carbohydrate by mass\n",
    "    \"Cassava\": {\"carbohydrate_content\": 0.70},  # 70% carbohydrate by mass\n",
    "}\n",
    "\n",
    "# Conversion efficiency from carbohydrate to glucose\n",
    "conversion_efficiency = 0.90  # 90% efficiency\n",
    "# Stoichiometric yield of ethanol from glucose\n",
    "# C6H12O6 -> 2C2H5OH + 2CO2\n",
    "ethanol_yield = 2 * 46 / 180  # 2 moles of ethanol (46 g/mol) per 1 mole of glucose (180 g/mol)\n",
    "\n",
    "def calculate_bioethanol_production(crop_type, mass_kg=1):\n",
    "    if crop_type not in crop_data:\n",
    "        raise ValueError(f\"Unknown crop type: {crop_type}\")\n",
    "    \n",
    "    # Get carbohydrate content\n",
    "    carb_content = crop_data[crop_type][\"carbohydrate_content\"]\n",
    "    \n",
    "    # Calculate glucose produced from carbohydrate\n",
    "    glucose_mass = mass_kg * carb_content * conversion_efficiency  # in kg\n",
    "    \n",
    "    # Calculate ethanol produced from glucose\n",
    "    ethanol_mass = glucose_mass * ethanol_yield  # in kg\n",
    "    \n",
    "    return ethanol_mass\n",
    "\n",
    "# Example: Calculate bioethanol production from 1 kg of Corn\n",
    "crop_type = \"Corn\"  # Change this to other crops as needed\n",
    "bioethanol_produced = calculate_bioethanol_production(crop_type)\n",
    "\n",
    "print(f\"Bioethanol produced from 1 kg of {crop_type}: {bioethanol_produced:.2f} kg\")\n"
   ]
  }
 ],
 "metadata": {
  "kernelspec": {
   "display_name": "Python 3 (ipykernel)",
   "language": "python",
   "name": "python3"
  },
  "language_info": {
   "codemirror_mode": {
    "name": "ipython",
    "version": 3
   },
   "file_extension": ".py",
   "mimetype": "text/x-python",
   "name": "python",
   "nbconvert_exporter": "python",
   "pygments_lexer": "ipython3",
   "version": "3.9.19"
  }
 },
 "nbformat": 4,
 "nbformat_minor": 5
}